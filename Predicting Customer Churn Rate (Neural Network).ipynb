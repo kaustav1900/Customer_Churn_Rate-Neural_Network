{
 "cells": [
  {
   "cell_type": "markdown",
   "metadata": {
    "colab_type": "text",
    "id": "lP6JLo1tGNBg"
   },
   "source": [
    "# Artificial Neural Network"
   ]
  },
  {
   "cell_type": "markdown",
   "metadata": {
    "colab_type": "text",
    "id": "gWZyYmS_UE_L"
   },
   "source": [
    "### Importing the libraries"
   ]
  },
  {
   "cell_type": "code",
   "execution_count": 1,
   "metadata": {
    "colab": {},
    "colab_type": "code",
    "id": "MxkJoQBkUIHC"
   },
   "outputs": [],
   "source": [
    "import numpy as np\n",
    "import pandas as pd\n",
    "import tensorflow as tf\n",
    "import statsmodels\n",
    "import ppscore as pps\n",
    "import seaborn as sns\n",
    "import matplotlib.pyplot as plt\n",
    "import random"
   ]
  },
  {
   "cell_type": "markdown",
   "metadata": {
    "colab_type": "text",
    "id": "cKWAkFVGUU0Z"
   },
   "source": [
    "### Importing the dataset"
   ]
  },
  {
   "cell_type": "code",
   "execution_count": 2,
   "metadata": {
    "colab": {},
    "colab_type": "code",
    "id": "MXUkhkMfU4wq",
    "scrolled": true
   },
   "outputs": [
    {
     "data": {
      "text/html": [
       "<div>\n",
       "<style scoped>\n",
       "    .dataframe tbody tr th:only-of-type {\n",
       "        vertical-align: middle;\n",
       "    }\n",
       "\n",
       "    .dataframe tbody tr th {\n",
       "        vertical-align: top;\n",
       "    }\n",
       "\n",
       "    .dataframe thead th {\n",
       "        text-align: right;\n",
       "    }\n",
       "</style>\n",
       "<table border=\"1\" class=\"dataframe\">\n",
       "  <thead>\n",
       "    <tr style=\"text-align: right;\">\n",
       "      <th></th>\n",
       "      <th>RowNumber</th>\n",
       "      <th>CustomerId</th>\n",
       "      <th>Surname</th>\n",
       "      <th>CreditScore</th>\n",
       "      <th>Geography</th>\n",
       "      <th>Gender</th>\n",
       "      <th>Age</th>\n",
       "      <th>Tenure</th>\n",
       "      <th>Balance</th>\n",
       "      <th>NumOfProducts</th>\n",
       "      <th>HasCrCard</th>\n",
       "      <th>IsActiveMember</th>\n",
       "      <th>EstimatedSalary</th>\n",
       "      <th>Exited</th>\n",
       "    </tr>\n",
       "  </thead>\n",
       "  <tbody>\n",
       "    <tr>\n",
       "      <th>0</th>\n",
       "      <td>1</td>\n",
       "      <td>15634602</td>\n",
       "      <td>Hargrave</td>\n",
       "      <td>619</td>\n",
       "      <td>France</td>\n",
       "      <td>Female</td>\n",
       "      <td>42</td>\n",
       "      <td>2</td>\n",
       "      <td>0.00</td>\n",
       "      <td>1</td>\n",
       "      <td>1</td>\n",
       "      <td>1</td>\n",
       "      <td>101348.88</td>\n",
       "      <td>1</td>\n",
       "    </tr>\n",
       "    <tr>\n",
       "      <th>1</th>\n",
       "      <td>2</td>\n",
       "      <td>15647311</td>\n",
       "      <td>Hill</td>\n",
       "      <td>608</td>\n",
       "      <td>Spain</td>\n",
       "      <td>Female</td>\n",
       "      <td>41</td>\n",
       "      <td>1</td>\n",
       "      <td>83807.86</td>\n",
       "      <td>1</td>\n",
       "      <td>0</td>\n",
       "      <td>1</td>\n",
       "      <td>112542.58</td>\n",
       "      <td>0</td>\n",
       "    </tr>\n",
       "    <tr>\n",
       "      <th>2</th>\n",
       "      <td>3</td>\n",
       "      <td>15619304</td>\n",
       "      <td>Onio</td>\n",
       "      <td>502</td>\n",
       "      <td>France</td>\n",
       "      <td>Female</td>\n",
       "      <td>42</td>\n",
       "      <td>8</td>\n",
       "      <td>159660.80</td>\n",
       "      <td>3</td>\n",
       "      <td>1</td>\n",
       "      <td>0</td>\n",
       "      <td>113931.57</td>\n",
       "      <td>1</td>\n",
       "    </tr>\n",
       "    <tr>\n",
       "      <th>3</th>\n",
       "      <td>4</td>\n",
       "      <td>15701354</td>\n",
       "      <td>Boni</td>\n",
       "      <td>699</td>\n",
       "      <td>France</td>\n",
       "      <td>Female</td>\n",
       "      <td>39</td>\n",
       "      <td>1</td>\n",
       "      <td>0.00</td>\n",
       "      <td>2</td>\n",
       "      <td>0</td>\n",
       "      <td>0</td>\n",
       "      <td>93826.63</td>\n",
       "      <td>0</td>\n",
       "    </tr>\n",
       "    <tr>\n",
       "      <th>4</th>\n",
       "      <td>5</td>\n",
       "      <td>15737888</td>\n",
       "      <td>Mitchell</td>\n",
       "      <td>850</td>\n",
       "      <td>Spain</td>\n",
       "      <td>Female</td>\n",
       "      <td>43</td>\n",
       "      <td>2</td>\n",
       "      <td>125510.82</td>\n",
       "      <td>1</td>\n",
       "      <td>1</td>\n",
       "      <td>1</td>\n",
       "      <td>79084.10</td>\n",
       "      <td>0</td>\n",
       "    </tr>\n",
       "  </tbody>\n",
       "</table>\n",
       "</div>"
      ],
      "text/plain": [
       "   RowNumber  CustomerId   Surname  CreditScore Geography  Gender  Age  \\\n",
       "0          1    15634602  Hargrave          619    France  Female   42   \n",
       "1          2    15647311      Hill          608     Spain  Female   41   \n",
       "2          3    15619304      Onio          502    France  Female   42   \n",
       "3          4    15701354      Boni          699    France  Female   39   \n",
       "4          5    15737888  Mitchell          850     Spain  Female   43   \n",
       "\n",
       "   Tenure    Balance  NumOfProducts  HasCrCard  IsActiveMember  \\\n",
       "0       2       0.00              1          1               1   \n",
       "1       1   83807.86              1          0               1   \n",
       "2       8  159660.80              3          1               0   \n",
       "3       1       0.00              2          0               0   \n",
       "4       2  125510.82              1          1               1   \n",
       "\n",
       "   EstimatedSalary  Exited  \n",
       "0        101348.88       1  \n",
       "1        112542.58       0  \n",
       "2        113931.57       1  \n",
       "3         93826.63       0  \n",
       "4         79084.10       0  "
      ]
     },
     "execution_count": 2,
     "metadata": {},
     "output_type": "execute_result"
    }
   ],
   "source": [
    "dataset = pd.read_csv('Data_Churn_Modelling.csv')\n",
    "dataset.head()"
   ]
  },
  {
   "cell_type": "code",
   "execution_count": 3,
   "metadata": {
    "scrolled": true
   },
   "outputs": [
    {
     "name": "stderr",
     "output_type": "stream",
     "text": [
      "/Library/Frameworks/Python.framework/Versions/3.8/lib/python3.8/site-packages/sklearn/model_selection/_split.py:670: UserWarning: The least populated class in y has only 1 members, which is less than n_splits=4.\n",
      "  warnings.warn((\"The least populated class in y has only %d\"\n",
      "/Library/Frameworks/Python.framework/Versions/3.8/lib/python3.8/site-packages/sklearn/model_selection/_split.py:670: UserWarning: The least populated class in y has only 1 members, which is less than n_splits=4.\n",
      "  warnings.warn((\"The least populated class in y has only %d\"\n",
      "/Library/Frameworks/Python.framework/Versions/3.8/lib/python3.8/site-packages/sklearn/model_selection/_split.py:670: UserWarning: The least populated class in y has only 1 members, which is less than n_splits=4.\n",
      "  warnings.warn((\"The least populated class in y has only %d\"\n",
      "/Library/Frameworks/Python.framework/Versions/3.8/lib/python3.8/site-packages/sklearn/model_selection/_split.py:670: UserWarning: The least populated class in y has only 1 members, which is less than n_splits=4.\n",
      "  warnings.warn((\"The least populated class in y has only %d\"\n",
      "/Library/Frameworks/Python.framework/Versions/3.8/lib/python3.8/site-packages/sklearn/model_selection/_split.py:670: UserWarning: The least populated class in y has only 1 members, which is less than n_splits=4.\n",
      "  warnings.warn((\"The least populated class in y has only %d\"\n",
      "/Library/Frameworks/Python.framework/Versions/3.8/lib/python3.8/site-packages/sklearn/model_selection/_split.py:670: UserWarning: The least populated class in y has only 1 members, which is less than n_splits=4.\n",
      "  warnings.warn((\"The least populated class in y has only %d\"\n",
      "/Library/Frameworks/Python.framework/Versions/3.8/lib/python3.8/site-packages/sklearn/model_selection/_split.py:670: UserWarning: The least populated class in y has only 1 members, which is less than n_splits=4.\n",
      "  warnings.warn((\"The least populated class in y has only %d\"\n",
      "/Library/Frameworks/Python.framework/Versions/3.8/lib/python3.8/site-packages/sklearn/model_selection/_split.py:670: UserWarning: The least populated class in y has only 1 members, which is less than n_splits=4.\n",
      "  warnings.warn((\"The least populated class in y has only %d\"\n",
      "/Library/Frameworks/Python.framework/Versions/3.8/lib/python3.8/site-packages/sklearn/model_selection/_split.py:670: UserWarning: The least populated class in y has only 1 members, which is less than n_splits=4.\n",
      "  warnings.warn((\"The least populated class in y has only %d\"\n",
      "/Library/Frameworks/Python.framework/Versions/3.8/lib/python3.8/site-packages/sklearn/model_selection/_split.py:670: UserWarning: The least populated class in y has only 1 members, which is less than n_splits=4.\n",
      "  warnings.warn((\"The least populated class in y has only %d\"\n",
      "/Library/Frameworks/Python.framework/Versions/3.8/lib/python3.8/site-packages/sklearn/model_selection/_split.py:670: UserWarning: The least populated class in y has only 1 members, which is less than n_splits=4.\n",
      "  warnings.warn((\"The least populated class in y has only %d\"\n",
      "/Library/Frameworks/Python.framework/Versions/3.8/lib/python3.8/site-packages/sklearn/model_selection/_split.py:670: UserWarning: The least populated class in y has only 1 members, which is less than n_splits=4.\n",
      "  warnings.warn((\"The least populated class in y has only %d\"\n",
      "/Library/Frameworks/Python.framework/Versions/3.8/lib/python3.8/site-packages/sklearn/model_selection/_split.py:670: UserWarning: The least populated class in y has only 1 members, which is less than n_splits=4.\n",
      "  warnings.warn((\"The least populated class in y has only %d\"\n"
     ]
    }
   ],
   "source": [
    "cor_dataset = pps.matrix(dataset)"
   ]
  },
  {
   "cell_type": "markdown",
   "metadata": {},
   "source": [
    "### Checking the PPS score for co-relation"
   ]
  },
  {
   "cell_type": "code",
   "execution_count": 4,
   "metadata": {
    "scrolled": false
   },
   "outputs": [
    {
     "data": {
      "image/png": "[encoded data removed]",
      "text/plain": [
       "<Figure size 1440x720 with 2 Axes>"
      ]
     },
     "metadata": {
      "needs_background": "light"
     },
     "output_type": "display_data"
    }
   ],
   "source": [
    "plt.figure(figsize=[20,10])\n",
    "sns.heatmap(cor_dataset, cmap='Greens', annot=True, fmt = '.2f')\n",
    "plt.show()"
   ]
  },
  {
   "cell_type": "code",
   "execution_count": 5,
   "metadata": {},
   "outputs": [],
   "source": [
    "X = dataset.iloc[:, 3:-1].values\n",
    "y = dataset.iloc[:, -1].values"
   ]
  },
  {
   "cell_type": "code",
   "execution_count": 6,
   "metadata": {
    "colab": {
     "base_uri": "https://localhost:8080/",
     "height": 137
    },
    "colab_type": "code",
    "executionInfo": {
     "elapsed": 2396,
     "status": "ok",
     "timestamp": 1590257449961,
     "user": {
      "displayName": "Hadelin de Ponteves",
      "photoUrl": "https://lh3.googleusercontent.com/a-/AOh14GhEuXdT7eQweUmRPW8_laJuPggSK6hfvpl5a6WBaA=s64",
      "userId": "15047218817161520419"
     },
     "user_tz": -240
    },
    "id": "VYP9cQTWbzuI",
    "outputId": "797e7a64-9bac-436a-8c9c-94437e5e7587"
   },
   "outputs": [
    {
     "name": "stdout",
     "output_type": "stream",
     "text": [
      "[[619 'France' 'Female' ... 1 1 101348.88]\n",
      " [608 'Spain' 'Female' ... 0 1 112542.58]\n",
      " [502 'France' 'Female' ... 1 0 113931.57]\n",
      " ...\n",
      " [709 'France' 'Female' ... 0 1 42085.58]\n",
      " [772 'Germany' 'Male' ... 1 0 92888.52]\n",
      " [792 'France' 'Female' ... 1 0 38190.78]]\n"
     ]
    }
   ],
   "source": [
    "print(X)"
   ]
  },
  {
   "cell_type": "code",
   "execution_count": 7,
   "metadata": {
    "colab": {
     "base_uri": "https://localhost:8080/",
     "height": 34
    },
    "colab_type": "code",
    "executionInfo": {
     "elapsed": 2391,
     "status": "ok",
     "timestamp": 1590257449961,
     "user": {
      "displayName": "Hadelin de Ponteves",
      "photoUrl": "https://lh3.googleusercontent.com/a-/AOh14GhEuXdT7eQweUmRPW8_laJuPggSK6hfvpl5a6WBaA=s64",
      "userId": "15047218817161520419"
     },
     "user_tz": -240
    },
    "id": "38vKGE6Nb2RR",
    "outputId": "a815e42a-e0dd-4cb5-ab97-b17ead98fbc3"
   },
   "outputs": [
    {
     "name": "stdout",
     "output_type": "stream",
     "text": [
      "[1 0 1 ... 1 1 0]\n"
     ]
    }
   ],
   "source": [
    "print(y)"
   ]
  },
  {
   "cell_type": "markdown",
   "metadata": {
    "colab_type": "text",
    "id": "N6bQ0UgSU-NJ"
   },
   "source": [
    "### Encoding categorical data"
   ]
  },
  {
   "cell_type": "code",
   "execution_count": 8,
   "metadata": {
    "colab": {},
    "colab_type": "code",
    "id": "PxVKWXxLbczC"
   },
   "outputs": [],
   "source": [
    "from statsmodels.tools import categorical\n",
    "X[:,2] = categorical(X[:, 2]).reshape(-1,3)[:,2]"
   ]
  },
  {
   "cell_type": "code",
   "execution_count": 9,
   "metadata": {
    "colab": {
     "base_uri": "https://localhost:8080/",
     "height": 137
    },
    "colab_type": "code",
    "executionInfo": {
     "elapsed": 2719,
     "status": "ok",
     "timestamp": 1590257450295,
     "user": {
      "displayName": "Hadelin de Ponteves",
      "photoUrl": "https://lh3.googleusercontent.com/a-/AOh14GhEuXdT7eQweUmRPW8_laJuPggSK6hfvpl5a6WBaA=s64",
      "userId": "15047218817161520419"
     },
     "user_tz": -240
    },
    "id": "-M1KboxFb6OO",
    "outputId": "e2b8c7e8-0cbc-4cdf-f4eb-7f0853a00b88",
    "scrolled": false
   },
   "outputs": [
    {
     "name": "stdout",
     "output_type": "stream",
     "text": [
      "[[619 'France' 0.0 ... 1 1 101348.88]\n",
      " [608 'Spain' 0.0 ... 0 1 112542.58]\n",
      " [502 'France' 0.0 ... 1 0 113931.57]\n",
      " ...\n",
      " [709 'France' 0.0 ... 0 1 42085.58]\n",
      " [772 'Germany' 1.0 ... 1 0 92888.52]\n",
      " [792 'France' 0.0 ... 1 0 38190.78]]\n"
     ]
    }
   ],
   "source": [
    "print(X)"
   ]
  },
  {
   "cell_type": "code",
   "execution_count": 10,
   "metadata": {
    "colab": {},
    "colab_type": "code",
    "id": "AMXC8-KMVirw",
    "scrolled": true
   },
   "outputs": [],
   "source": [
    "cat = categorical(X[:, 1]).reshape(-1,4)[:,1:].reshape(-1,3)"
   ]
  },
  {
   "cell_type": "code",
   "execution_count": 11,
   "metadata": {},
   "outputs": [],
   "source": [
    "X = X[:,2:]"
   ]
  },
  {
   "cell_type": "code",
   "execution_count": 12,
   "metadata": {
    "colab": {
     "base_uri": "https://localhost:8080/",
     "height": 137
    },
    "colab_type": "code",
    "executionInfo": {
     "elapsed": 2713,
     "status": "ok",
     "timestamp": 1590257450296,
     "user": {
      "displayName": "Hadelin de Ponteves",
      "photoUrl": "https://lh3.googleusercontent.com/a-/AOh14GhEuXdT7eQweUmRPW8_laJuPggSK6hfvpl5a6WBaA=s64",
      "userId": "15047218817161520419"
     },
     "user_tz": -240
    },
    "id": "ZcxwEon-b8nV",
    "outputId": "23a98af4-5e33-4b26-c27b-f06e3c5d2baf"
   },
   "outputs": [
    {
     "name": "stdout",
     "output_type": "stream",
     "text": [
      "[[1.0 0.0 0.0 ... 1 1 101348.88]\n",
      " [0.0 0.0 1.0 ... 0 1 112542.58]\n",
      " [1.0 0.0 0.0 ... 1 0 113931.57]\n",
      " ...\n",
      " [1.0 0.0 0.0 ... 0 1 42085.58]\n",
      " [0.0 1.0 0.0 ... 1 0 92888.52]\n",
      " [1.0 0.0 0.0 ... 1 0 38190.78]]\n"
     ]
    }
   ],
   "source": [
    "X = np.hstack((cat,X))\n",
    "print(X)"
   ]
  },
  {
   "cell_type": "markdown",
   "metadata": {
    "colab_type": "text",
    "id": "vHol938cW8zd"
   },
   "source": [
    "### Splitting the dataset into the Training set and Test set"
   ]
  },
  {
   "cell_type": "code",
   "execution_count": 13,
   "metadata": {
    "colab": {},
    "colab_type": "code",
    "id": "Z-TDt0Y_XEfc"
   },
   "outputs": [],
   "source": [
    "from sklearn.model_selection import train_test_split\n",
    "X_train, X_test, y_train, y_test = train_test_split(X, y, test_size = 0.2, random_state = 0, stratify = y)"
   ]
  },
  {
   "cell_type": "markdown",
   "metadata": {
    "colab_type": "text",
    "id": "RE_FcHyfV3TQ"
   },
   "source": [
    "### Feature Scaling"
   ]
  },
  {
   "cell_type": "code",
   "execution_count": 14,
   "metadata": {
    "colab": {},
    "colab_type": "code",
    "id": "ViCrE00rV8Sk"
   },
   "outputs": [
    {
     "name": "stdout",
     "output_type": "stream",
     "text": [
      "[-1.002002    1.72974448 -0.57504086  0.91186722 -0.27382717  0.35390313\n",
      "  0.2854211   0.81371262  0.64531434  0.96293637 -1.55587522]\n"
     ]
    }
   ],
   "source": [
    "from sklearn.preprocessing import StandardScaler\n",
    "sc = StandardScaler()\n",
    "X_train = sc.fit_transform(X_train)\n",
    "X_test = sc.transform(X_test)\n",
    "print(X_train[1,:])"
   ]
  },
  {
   "cell_type": "markdown",
   "metadata": {
    "colab_type": "text",
    "id": "KvdeScabXtlB"
   },
   "source": [
    "### Initializing the ANN"
   ]
  },
  {
   "cell_type": "code",
   "execution_count": 15,
   "metadata": {
    "colab": {},
    "colab_type": "code",
    "id": "3dtrScHxXQox"
   },
   "outputs": [],
   "source": [
    "ann = tf.keras.models.Sequential()"
   ]
  },
  {
   "cell_type": "markdown",
   "metadata": {
    "colab_type": "text",
    "id": "rP6urV6SX7kS"
   },
   "source": [
    "### Adding the input layer and hidden layers"
   ]
  },
  {
   "cell_type": "code",
   "execution_count": 16,
   "metadata": {
    "colab": {},
    "colab_type": "code",
    "id": "bppGycBXYCQr"
   },
   "outputs": [],
   "source": [
    "ann.add(tf.keras.layers.Dense(units=6, activation='tanh'))"
   ]
  },
  {
   "cell_type": "code",
   "execution_count": 17,
   "metadata": {
    "colab": {},
    "colab_type": "code",
    "id": "JneR0u0sYRTd"
   },
   "outputs": [],
   "source": [
    "ann.add(tf.keras.layers.Dense(units=6, activation='tanh'))"
   ]
  },
  {
   "cell_type": "code",
   "execution_count": 18,
   "metadata": {},
   "outputs": [],
   "source": [
    "ann.add(tf.keras.layers.Dropout(.2, input_shape=(2,)))"
   ]
  },
  {
   "cell_type": "code",
   "execution_count": 19,
   "metadata": {},
   "outputs": [],
   "source": [
    "ann.add(tf.keras.layers.Dense(units=6, activation='tanh'))"
   ]
  },
  {
   "cell_type": "code",
   "execution_count": 20,
   "metadata": {},
   "outputs": [],
   "source": [
    "ann.add(tf.keras.layers.Dropout(.2, input_shape=(2,)))"
   ]
  },
  {
   "cell_type": "code",
   "execution_count": 21,
   "metadata": {},
   "outputs": [],
   "source": [
    "ann.add(tf.keras.layers.Dense(units=6, activation='tanh'))"
   ]
  },
  {
   "cell_type": "markdown",
   "metadata": {
    "colab_type": "text",
    "id": "OyNEe6RXYcU4"
   },
   "source": [
    "### Adding the output layer"
   ]
  },
  {
   "cell_type": "code",
   "execution_count": 22,
   "metadata": {
    "colab": {},
    "colab_type": "code",
    "id": "Cn3x41RBYfvY"
   },
   "outputs": [],
   "source": [
    "ann.add(tf.keras.layers.Dense(units=1, activation='sigmoid'))"
   ]
  },
  {
   "cell_type": "markdown",
   "metadata": {
    "colab_type": "text",
    "id": "8GWlJChhY_ZI"
   },
   "source": [
    "### Compiling the ANN"
   ]
  },
  {
   "cell_type": "code",
   "execution_count": 23,
   "metadata": {
    "colab": {},
    "colab_type": "code",
    "id": "fG3RrwDXZEaS"
   },
   "outputs": [],
   "source": [
    "ann.compile(optimizer = 'adam', loss = 'binary_crossentropy', metrics = ['accuracy'])"
   ]
  },
  {
   "cell_type": "markdown",
   "metadata": {
    "colab_type": "text",
    "id": "0QR_G5u7ZLSM"
   },
   "source": [
    "### Training the ANN on the Training set"
   ]
  },
  {
   "cell_type": "code",
   "execution_count": 24,
   "metadata": {
    "colab": {
     "base_uri": "https://localhost:8080/",
     "height": 1000
    },
    "colab_type": "code",
    "executionInfo": {
     "elapsed": 33685,
     "status": "ok",
     "timestamp": 1590257481284,
     "user": {
      "displayName": "Hadelin de Ponteves",
      "photoUrl": "https://lh3.googleusercontent.com/a-/AOh14GhEuXdT7eQweUmRPW8_laJuPggSK6hfvpl5a6WBaA=s64",
      "userId": "15047218817161520419"
     },
     "user_tz": -240
    },
    "id": "nHZ-LKv_ZRb3",
    "outputId": "718cc4b0-b5aa-40f0-9b20-d3d31730a531",
    "scrolled": true
   },
   "outputs": [
    {
     "name": "stdout",
     "output_type": "stream",
     "text": [
      "Epoch 1/100\n",
      "400/400 [==============================] - 0s 852us/step - loss: 0.5273 - accuracy: 0.7508\n",
      "Epoch 2/100\n",
      "400/400 [==============================] - 0s 790us/step - loss: 0.4516 - accuracy: 0.8016\n",
      "Epoch 3/100\n",
      "400/400 [==============================] - 0s 985us/step - loss: 0.4437 - accuracy: 0.8046\n",
      "Epoch 4/100\n",
      "400/400 [==============================] - 0s 794us/step - loss: 0.4394 - accuracy: 0.8037\n",
      "Epoch 5/100\n",
      "400/400 [==============================] - 0s 811us/step - loss: 0.4320 - accuracy: 0.8061\n",
      "Epoch 6/100\n",
      "400/400 [==============================] - 0s 950us/step - loss: 0.4268 - accuracy: 0.8087\n",
      "Epoch 7/100\n",
      "400/400 [==============================] - 0s 767us/step - loss: 0.4190 - accuracy: 0.8152\n",
      "Epoch 8/100\n",
      "400/400 [==============================] - 0s 908us/step - loss: 0.4142 - accuracy: 0.8214\n",
      "Epoch 9/100\n",
      "400/400 [==============================] - 0s 765us/step - loss: 0.4125 - accuracy: 0.8202\n",
      "Epoch 10/100\n",
      "400/400 [==============================] - 0s 764us/step - loss: 0.4050 - accuracy: 0.8257\n",
      "Epoch 11/100\n",
      "400/400 [==============================] - 0s 827us/step - loss: 0.3947 - accuracy: 0.8346\n",
      "Epoch 12/100\n",
      "400/400 [==============================] - 0s 832us/step - loss: 0.3877 - accuracy: 0.8380\n",
      "Epoch 13/100\n",
      "400/400 [==============================] - 0s 990us/step - loss: 0.3855 - accuracy: 0.8410\n",
      "Epoch 14/100\n",
      "400/400 [==============================] - 0s 807us/step - loss: 0.3793 - accuracy: 0.8409\n",
      "Epoch 15/100\n",
      "400/400 [==============================] - 0s 846us/step - loss: 0.3745 - accuracy: 0.8453\n",
      "Epoch 16/100\n",
      "400/400 [==============================] - 0s 833us/step - loss: 0.3708 - accuracy: 0.8533\n",
      "Epoch 17/100\n",
      "400/400 [==============================] - 0s 1ms/step - loss: 0.3679 - accuracy: 0.8471\n",
      "Epoch 18/100\n",
      "400/400 [==============================] - 0s 820us/step - loss: 0.3621 - accuracy: 0.8494\n",
      "Epoch 19/100\n",
      "400/400 [==============================] - 0s 809us/step - loss: 0.3594 - accuracy: 0.8534\n",
      "Epoch 20/100\n",
      "400/400 [==============================] - 0s 826us/step - loss: 0.3619 - accuracy: 0.8509\n",
      "Epoch 21/100\n",
      "400/400 [==============================] - 0s 844us/step - loss: 0.3601 - accuracy: 0.8536\n",
      "Epoch 22/100\n",
      "400/400 [==============================] - 0s 853us/step - loss: 0.3588 - accuracy: 0.8556\n",
      "Epoch 23/100\n",
      "400/400 [==============================] - 0s 801us/step - loss: 0.3581 - accuracy: 0.8570\n",
      "Epoch 24/100\n",
      "400/400 [==============================] - 0s 751us/step - loss: 0.3568 - accuracy: 0.8539\n",
      "Epoch 25/100\n",
      "400/400 [==============================] - 0s 755us/step - loss: 0.3575 - accuracy: 0.8549\n",
      "Epoch 26/100\n",
      "400/400 [==============================] - 0s 821us/step - loss: 0.3540 - accuracy: 0.8554\n",
      "Epoch 27/100\n",
      "400/400 [==============================] - 0s 879us/step - loss: 0.3535 - accuracy: 0.8579\n",
      "Epoch 28/100\n",
      "400/400 [==============================] - 0s 924us/step - loss: 0.3519 - accuracy: 0.85800s - loss: 0.3532 - accuracy: 0.85\n",
      "Epoch 29/100\n",
      "400/400 [==============================] - 0s 892us/step - loss: 0.3506 - accuracy: 0.8556\n",
      "Epoch 30/100\n",
      "400/400 [==============================] - 0s 826us/step - loss: 0.3512 - accuracy: 0.8571\n",
      "Epoch 31/100\n",
      "400/400 [==============================] - 0s 883us/step - loss: 0.3491 - accuracy: 0.8572\n",
      "Epoch 32/100\n",
      "400/400 [==============================] - 0s 803us/step - loss: 0.3499 - accuracy: 0.8572\n",
      "Epoch 33/100\n",
      "400/400 [==============================] - 0s 831us/step - loss: 0.3486 - accuracy: 0.8586\n",
      "Epoch 34/100\n",
      "400/400 [==============================] - 0s 858us/step - loss: 0.3473 - accuracy: 0.8579\n",
      "Epoch 35/100\n",
      "400/400 [==============================] - 0s 832us/step - loss: 0.3476 - accuracy: 0.8571\n",
      "Epoch 36/100\n",
      "400/400 [==============================] - 0s 789us/step - loss: 0.3488 - accuracy: 0.8569\n",
      "Epoch 37/100\n",
      "400/400 [==============================] - 0s 790us/step - loss: 0.3464 - accuracy: 0.8584\n",
      "Epoch 38/100\n",
      "400/400 [==============================] - 0s 816us/step - loss: 0.3463 - accuracy: 0.8593\n",
      "Epoch 39/100\n",
      "400/400 [==============================] - 0s 789us/step - loss: 0.3475 - accuracy: 0.8568\n",
      "Epoch 40/100\n",
      "400/400 [==============================] - 0s 790us/step - loss: 0.3442 - accuracy: 0.8608\n",
      "Epoch 41/100\n",
      "400/400 [==============================] - 0s 828us/step - loss: 0.3461 - accuracy: 0.8576\n",
      "Epoch 42/100\n",
      "400/400 [==============================] - 0s 862us/step - loss: 0.3465 - accuracy: 0.8583\n",
      "Epoch 43/100\n",
      "400/400 [==============================] - 0s 832us/step - loss: 0.3475 - accuracy: 0.8591\n",
      "Epoch 44/100\n",
      "400/400 [==============================] - 0s 863us/step - loss: 0.3437 - accuracy: 0.8616\n",
      "Epoch 45/100\n",
      "400/400 [==============================] - 0s 873us/step - loss: 0.3443 - accuracy: 0.8618\n",
      "Epoch 46/100\n",
      "400/400 [==============================] - 0s 899us/step - loss: 0.3445 - accuracy: 0.8609\n",
      "Epoch 47/100\n",
      "400/400 [==============================] - 0s 872us/step - loss: 0.3479 - accuracy: 0.8600\n",
      "Epoch 48/100\n",
      "400/400 [==============================] - 0s 781us/step - loss: 0.3440 - accuracy: 0.8612\n",
      "Epoch 49/100\n",
      "400/400 [==============================] - 0s 930us/step - loss: 0.3437 - accuracy: 0.8589\n",
      "Epoch 50/100\n",
      "400/400 [==============================] - 0s 982us/step - loss: 0.3450 - accuracy: 0.8614\n",
      "Epoch 51/100\n",
      "400/400 [==============================] - 0s 893us/step - loss: 0.3433 - accuracy: 0.8593\n",
      "Epoch 52/100\n",
      "400/400 [==============================] - 0s 804us/step - loss: 0.3430 - accuracy: 0.8595\n",
      "Epoch 53/100\n",
      "400/400 [==============================] - 0s 869us/step - loss: 0.3404 - accuracy: 0.8602\n",
      "Epoch 54/100\n",
      "400/400 [==============================] - 0s 873us/step - loss: 0.3417 - accuracy: 0.8620\n",
      "Epoch 55/100\n",
      "400/400 [==============================] - 0s 866us/step - loss: 0.3437 - accuracy: 0.8599\n",
      "Epoch 56/100\n",
      "400/400 [==============================] - 0s 849us/step - loss: 0.3411 - accuracy: 0.8593\n",
      "Epoch 57/100\n",
      "400/400 [==============================] - 0s 837us/step - loss: 0.3427 - accuracy: 0.8622\n",
      "Epoch 58/100\n",
      "400/400 [==============================] - 0s 796us/step - loss: 0.3424 - accuracy: 0.8627\n",
      "Epoch 59/100\n",
      "400/400 [==============================] - 0s 819us/step - loss: 0.3428 - accuracy: 0.8620\n",
      "Epoch 60/100\n",
      "400/400 [==============================] - 0s 801us/step - loss: 0.3418 - accuracy: 0.8595\n",
      "Epoch 61/100\n",
      "400/400 [==============================] - 0s 792us/step - loss: 0.3436 - accuracy: 0.8612\n",
      "Epoch 62/100\n",
      "400/400 [==============================] - 0s 827us/step - loss: 0.3415 - accuracy: 0.8622\n",
      "Epoch 63/100\n",
      "400/400 [==============================] - 0s 873us/step - loss: 0.3430 - accuracy: 0.8604\n",
      "Epoch 64/100\n",
      "400/400 [==============================] - 0s 855us/step - loss: 0.3427 - accuracy: 0.8606\n",
      "Epoch 65/100\n",
      "400/400 [==============================] - 0s 821us/step - loss: 0.3423 - accuracy: 0.8618\n",
      "Epoch 66/100\n",
      "400/400 [==============================] - 0s 952us/step - loss: 0.3417 - accuracy: 0.8619\n",
      "Epoch 67/100\n",
      "400/400 [==============================] - 0s 910us/step - loss: 0.3401 - accuracy: 0.8612\n",
      "Epoch 68/100\n",
      "400/400 [==============================] - 0s 787us/step - loss: 0.3393 - accuracy: 0.8629\n",
      "Epoch 69/100\n",
      "400/400 [==============================] - 0s 819us/step - loss: 0.3414 - accuracy: 0.8589\n",
      "Epoch 70/100\n",
      "400/400 [==============================] - 0s 886us/step - loss: 0.3414 - accuracy: 0.8591\n",
      "Epoch 71/100\n",
      "400/400 [==============================] - 0s 808us/step - loss: 0.3403 - accuracy: 0.8630\n",
      "Epoch 72/100\n",
      "400/400 [==============================] - 0s 899us/step - loss: 0.3427 - accuracy: 0.8616\n",
      "Epoch 73/100\n",
      "400/400 [==============================] - 0s 921us/step - loss: 0.3399 - accuracy: 0.8601\n",
      "Epoch 74/100\n",
      "400/400 [==============================] - 0s 830us/step - loss: 0.3390 - accuracy: 0.8620\n",
      "Epoch 75/100\n",
      "400/400 [==============================] - 0s 872us/step - loss: 0.3379 - accuracy: 0.8624\n",
      "Epoch 76/100\n",
      "400/400 [==============================] - 0s 915us/step - loss: 0.3424 - accuracy: 0.8610\n",
      "Epoch 77/100\n",
      "400/400 [==============================] - 0s 837us/step - loss: 0.3412 - accuracy: 0.8630\n",
      "Epoch 78/100\n",
      "400/400 [==============================] - 0s 855us/step - loss: 0.3393 - accuracy: 0.8640\n",
      "Epoch 79/100\n"
     ]
    },
    {
     "name": "stdout",
     "output_type": "stream",
     "text": [
      "400/400 [==============================] - 0s 760us/step - loss: 0.3408 - accuracy: 0.8635\n",
      "Epoch 80/100\n",
      "400/400 [==============================] - 0s 752us/step - loss: 0.3385 - accuracy: 0.8618\n",
      "Epoch 81/100\n",
      "400/400 [==============================] - 0s 871us/step - loss: 0.3426 - accuracy: 0.86240s - loss: 0.3506 - accu\n",
      "Epoch 82/100\n",
      "400/400 [==============================] - 0s 886us/step - loss: 0.3404 - accuracy: 0.8629\n",
      "Epoch 83/100\n",
      "400/400 [==============================] - 0s 838us/step - loss: 0.3373 - accuracy: 0.8641\n",
      "Epoch 84/100\n",
      "400/400 [==============================] - 0s 814us/step - loss: 0.3407 - accuracy: 0.8622\n",
      "Epoch 85/100\n",
      "400/400 [==============================] - 0s 787us/step - loss: 0.3394 - accuracy: 0.8619\n",
      "Epoch 86/100\n",
      "400/400 [==============================] - 0s 804us/step - loss: 0.3418 - accuracy: 0.8604\n",
      "Epoch 87/100\n",
      "400/400 [==============================] - 0s 798us/step - loss: 0.3396 - accuracy: 0.8614\n",
      "Epoch 88/100\n",
      "400/400 [==============================] - 0s 822us/step - loss: 0.3383 - accuracy: 0.8612\n",
      "Epoch 89/100\n",
      "400/400 [==============================] - 0s 808us/step - loss: 0.3419 - accuracy: 0.8610\n",
      "Epoch 90/100\n",
      "400/400 [==============================] - 0s 784us/step - loss: 0.3374 - accuracy: 0.8629\n",
      "Epoch 91/100\n",
      "400/400 [==============================] - 0s 795us/step - loss: 0.3392 - accuracy: 0.8614\n",
      "Epoch 92/100\n",
      "400/400 [==============================] - 0s 801us/step - loss: 0.3402 - accuracy: 0.8634\n",
      "Epoch 93/100\n",
      "400/400 [==============================] - 0s 791us/step - loss: 0.3378 - accuracy: 0.8614\n",
      "Epoch 94/100\n",
      "400/400 [==============================] - 0s 833us/step - loss: 0.3427 - accuracy: 0.8619\n",
      "Epoch 95/100\n",
      "400/400 [==============================] - 0s 900us/step - loss: 0.3383 - accuracy: 0.8615\n",
      "Epoch 96/100\n",
      "400/400 [==============================] - 0s 772us/step - loss: 0.3393 - accuracy: 0.8641\n",
      "Epoch 97/100\n",
      "400/400 [==============================] - 0s 873us/step - loss: 0.3394 - accuracy: 0.8636\n",
      "Epoch 98/100\n",
      "400/400 [==============================] - 0s 820us/step - loss: 0.3376 - accuracy: 0.8651\n",
      "Epoch 99/100\n",
      "400/400 [==============================] - 0s 829us/step - loss: 0.3398 - accuracy: 0.8618\n",
      "Epoch 100/100\n",
      "400/400 [==============================] - 0s 768us/step - loss: 0.3376 - accuracy: 0.8635\n"
     ]
    },
    {
     "data": {
      "text/plain": [
       "<tensorflow.python.keras.callbacks.History at 0x7fd81c5df2b0>"
      ]
     },
     "execution_count": 24,
     "metadata": {},
     "output_type": "execute_result"
    }
   ],
   "source": [
    "ann.fit(X_train, y_train, batch_size = 20, epochs = 100)"
   ]
  },
  {
   "cell_type": "markdown",
   "metadata": {
    "colab_type": "text",
    "id": "84QFoqGYeXHL"
   },
   "source": [
    "### Predicting the result of a single observation"
   ]
  },
  {
   "cell_type": "code",
   "execution_count": 25,
   "metadata": {
    "colab": {
     "base_uri": "https://localhost:8080/",
     "height": 34
    },
    "colab_type": "code",
    "executionInfo": {
     "elapsed": 33990,
     "status": "ok",
     "timestamp": 1590257481594,
     "user": {
      "displayName": "Hadelin de Ponteves",
      "photoUrl": "https://lh3.googleusercontent.com/a-/AOh14GhEuXdT7eQweUmRPW8_laJuPggSK6hfvpl5a6WBaA=s64",
      "userId": "15047218817161520419"
     },
     "user_tz": -240
    },
    "id": "2d8IoCCkeWGL",
    "outputId": "957f3970-e197-4c3b-a150-7f69dc567f5d"
   },
   "outputs": [
    {
     "name": "stdout",
     "output_type": "stream",
     "text": [
      "[[ True]]\n"
     ]
    }
   ],
   "source": [
    "print(ann.predict(sc.transform([[1, 0, 600, 1, 40, 3, 60000, 2, 1, 1, 50000]])) > 0.5)"
   ]
  },
  {
   "cell_type": "markdown",
   "metadata": {
    "colab_type": "text",
    "id": "u7yx47jPZt11"
   },
   "source": [
    "### Predicting the Test set results"
   ]
  },
  {
   "cell_type": "code",
   "execution_count": 26,
   "metadata": {
    "colab": {
     "base_uri": "https://localhost:8080/",
     "height": 137
    },
    "colab_type": "code",
    "executionInfo": {
     "elapsed": 33987,
     "status": "ok",
     "timestamp": 1590257481595,
     "user": {
      "displayName": "Hadelin de Ponteves",
      "photoUrl": "https://lh3.googleusercontent.com/a-/AOh14GhEuXdT7eQweUmRPW8_laJuPggSK6hfvpl5a6WBaA=s64",
      "userId": "15047218817161520419"
     },
     "user_tz": -240
    },
    "id": "nIyEeQdRZwgs",
    "outputId": "82330ba8-9bdc-4fd1-d3cf-b6d78ee7c2a3"
   },
   "outputs": [],
   "source": [
    "y_pred = ann.predict(X_test)\n",
    "y_pred = (y_pred > 0.5)\n",
    "#print(np.concatenate((y_pred.reshape(len(y_pred),1), y_test.reshape(len(y_test),1)),1))"
   ]
  },
  {
   "cell_type": "markdown",
   "metadata": {
    "colab_type": "text",
    "id": "o0oyfLWoaEGw"
   },
   "source": [
    "### Making the Confusion Matrix"
   ]
  },
  {
   "cell_type": "code",
   "execution_count": 27,
   "metadata": {
    "colab": {
     "base_uri": "https://localhost:8080/",
     "height": 68
    },
    "colab_type": "code",
    "executionInfo": {
     "elapsed": 33981,
     "status": "ok",
     "timestamp": 1590257481595,
     "user": {
      "displayName": "Hadelin de Ponteves",
      "photoUrl": "https://lh3.googleusercontent.com/a-/AOh14GhEuXdT7eQweUmRPW8_laJuPggSK6hfvpl5a6WBaA=s64",
      "userId": "15047218817161520419"
     },
     "user_tz": -240
    },
    "id": "ci6K_r6LaF6P",
    "outputId": "4d854e9e-22d5-432f-f6e5-a102fe3ae0bd"
   },
   "outputs": [
    {
     "name": "stdout",
     "output_type": "stream",
     "text": [
      "[[1538   55]\n",
      " [ 225  182]]\n"
     ]
    },
    {
     "data": {
      "text/plain": [
       "0.86"
      ]
     },
     "execution_count": 27,
     "metadata": {},
     "output_type": "execute_result"
    }
   ],
   "source": [
    "from sklearn.metrics import confusion_matrix, accuracy_score\n",
    "cm = confusion_matrix(y_test, y_pred)\n",
    "print(cm)\n",
    "accuracy_score(y_test, y_pred)"
   ]
  }
 ],
 "metadata": {
  "colab": {
   "authorship_tag": "ABX9TyMeRFWFoGrdaL5S3dx5MWmb",
   "collapsed_sections": [],
   "name": "artificial_neural_network.ipynb",
   "provenance": [],
   "toc_visible": true
  },
  "kernelspec": {
   "display_name": "Python 3",
   "language": "python",
   "name": "python3"
  },
  "language_info": {
   "codemirror_mode": {
    "name": "ipython",
    "version": 3
   },
   "file_extension": ".py",
   "mimetype": "text/x-python",
   "name": "python",
   "nbconvert_exporter": "python",
   "pygments_lexer": "ipython3",
   "version": "3.8.3"
  }
 },
 "nbformat": 4,
 "nbformat_minor": 1
}
